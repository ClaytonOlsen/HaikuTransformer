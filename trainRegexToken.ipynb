{
 "cells": [
  {
   "cell_type": "code",
   "execution_count": 11,
   "metadata": {},
   "outputs": [],
   "source": [
    "from datasets import load_dataset\n",
    "import torch\n",
    "import os\n",
    "import pickle\n",
    "import random\n",
    "random.seed(1330) \n",
    "import regex as re\n",
    "from tokenizer import RegExpTokenizer\n",
    "\n",
    "name = \"RegexToken3000\"\n",
    "\n",
    "ds = load_dataset(\"statworx/haiku\")\n",
    "haikutext = '\\n'.join(ds['train']['text'])\n",
    "vocab_size = 3000\n",
    "tokenizer = RegExpTokenizer()\n",
    "tokens = tokenizer.encode(haikutext, vocab_size, verbose=False)\n"
   ]
  },
  {
   "cell_type": "code",
   "execution_count": 12,
   "metadata": {},
   "outputs": [],
   "source": [
    "data = torch.tensor(tokens, dtype=torch.long)\n",
    "\n",
    "#train test split\n",
    "n = int(0.80*len(data)) # first 80% will be train, rest val\n",
    "train_data = data[:n]\n",
    "val_data = data[n:]"
   ]
  },
  {
   "cell_type": "markdown",
   "metadata": {},
   "source": [
    "# Model Train"
   ]
  },
  {
   "cell_type": "code",
   "execution_count": 13,
   "metadata": {},
   "outputs": [],
   "source": [
    "# hyperparameters\n",
    "\n",
    "device = torch.device(\"mps\" if torch.backends.mps.is_available() else \"cpu\") #m1 gpu\n",
    "batch_size = 64 # how many independent sequences will we process in parallel\n",
    "block_size = 256 # what is the maximum context length for predictions\n",
    "max_iters = 20000 # epochs/learning iterations\n",
    "eval_interval = 100 # for printing loss updates\n",
    "checpoint_interval = 1000 #save checkpoint\n",
    "learning_rate = 3e-4 # Slower learning rate for wide model\n",
    "eval_iters = 200\n",
    "n_embd = 384\n",
    "n_head = 6\n",
    "n_layer = 6\n",
    "n_block_layers = 6\n",
    "dropout = 0.2"
   ]
  },
  {
   "cell_type": "code",
   "execution_count": 18,
   "metadata": {},
   "outputs": [
    {
     "name": "stdout",
     "output_type": "stream",
     "text": [
      "Loading from previous checkpoint './model_weightsRegexToken3000/model_weights_15300.pth'\n"
     ]
    },
    {
     "name": "stderr",
     "output_type": "stream",
     "text": [
      "/opt/anaconda3/lib/python3.9/site-packages/torch/_utils.py:831: UserWarning: TypedStorage is deprecated. It will be removed in the future and UntypedStorage will be the only storage class. This should only matter to you if you are using storages directly.  To access UntypedStorage directly, use tensor.untyped_storage() instead of tensor.storage()\n",
      "  return self.fget.__get__(instance, owner)()\n"
     ]
    },
    {
     "name": "stdout",
     "output_type": "stream",
     "text": [
      "Weights loaded\n",
      "7.726008 M parameters\n",
      "step 0: train loss 1.3741, val loss 2.8403\n",
      "step 100: train loss 1.3264, val loss 2.8028\n",
      "step 200: train loss 1.3097, val loss 2.7743\n",
      "step 300: train loss 1.2993, val loss 2.7642\n",
      "step 400: train loss 1.2868, val loss 2.7422\n",
      "step 500: train loss 1.2841, val loss 2.7599\n",
      "step 600: train loss 1.2779, val loss 2.7484\n",
      "step 700: train loss 1.2717, val loss 2.7320\n",
      "step 800: train loss 1.2662, val loss 2.7071\n",
      "step 900: train loss 1.2624, val loss 2.7129\n",
      "step 1000: train loss 1.2592, val loss 2.7462\n",
      "step 1100: train loss 1.2554, val loss 2.7361\n",
      "step 1200: train loss 1.2480, val loss 2.7384\n",
      "step 1300: train loss 1.2445, val loss 2.7704\n",
      "step 1400: train loss 1.2423, val loss 2.7563\n",
      "step 1500: train loss 1.2374, val loss 2.7544\n",
      "step 1600: train loss 1.2382, val loss 2.7037\n",
      "step 1700: train loss 1.2347, val loss 2.6937\n",
      "step 1800: train loss 1.2305, val loss 2.7110\n",
      "step 1900: train loss 1.2298, val loss 2.6901\n",
      "step 2000: train loss 1.2220, val loss 2.7104\n",
      "step 2100: train loss 1.2229, val loss 2.7125\n",
      "step 2200: train loss 1.2187, val loss 2.6850\n",
      "step 2300: train loss 1.2161, val loss 2.7368\n"
     ]
    }
   ],
   "source": [
    "from BigramLanguageModelTrain import utilTools as ut\n",
    "from BigramLanguageModelTrain import BigramLanguageModel\n",
    "\n",
    "\n",
    "#Relearning Epoch starting point\n",
    "iterationStart = 15300\n",
    "\n",
    "\n",
    "#Stopping criteria parameters\n",
    "patience = 10\n",
    "best_val_loss = float('inf')\n",
    "epochs_no_improve = 0\n",
    "\n",
    "\n",
    "util_tools = ut(train_data, val_data, block_size, batch_size, device)\n",
    "model = BigramLanguageModel(block_size, vocab_size, n_embd, n_head, dropout, device)\n",
    "\n",
    "if os.path.exists(f'.losses{name}/trainlosses_{iterationStart}.pkl'):\n",
    "    with open(f'.losses{name}/trainlosses_{iterationStart}.pkl', \"rb\") as file:\n",
    "        print(\"Loading losses\")\n",
    "        trainlosses = pickle.load(file)\n",
    "else:\n",
    "    trainlosses = []\n",
    "\n",
    "if os.path.exists(f'.losses{name}/vallosses_{iterationStart}.pkl'):\n",
    "    with open(f'.losses{name}/vallosses_{iterationStart}.pkl', \"rb\") as file:\n",
    "        vallosses = pickle.load(file)\n",
    "        print(\"Loading losses\")\n",
    "else:\n",
    "    vallosses = []\n",
    "\n",
    "\n",
    "if os.path.exists(f'./model_weights{name}/model_weights_{iterationStart}.pth'):\n",
    "    print(\"Loading from previous checkpoint\", f\"'./model_weights{name}/model_weights_{iterationStart}.pth'\")\n",
    "    # Load previous weights\n",
    "    model.load_state_dict(torch.load(f'./model_weights{name}/model_weights_{iterationStart}.pth', weights_only=True))\n",
    "    print(\"Weights loaded\")\n",
    "\n",
    "m = model.to(device)\n",
    "# print the number of parameters in the model\n",
    "print(sum(p.numel() for p in m.parameters())/1e6, 'M parameters')\n",
    "\n",
    "# create a PyTorch optimizer\n",
    "optimizer = torch.optim.AdamW(m.parameters(), lr=learning_rate)\n",
    "\n",
    "for iter in range(max_iters):\n",
    "    if iter >10000:\n",
    "        learning_rate = 3e-5\n",
    "    # every once in a while evaluate the loss on train and val sets\n",
    "    if iter % eval_interval == 0 or iter == max_iters - 1:\n",
    "        losses = util_tools.estimate_loss(model, eval_iters)\n",
    "        print(f\"step {iter}: train loss {losses['train']:.4f}, val loss {losses['val']:.4f}\")\n",
    "        trainlosses.append(losses['train'])\n",
    "        vallosses.append(losses['val'])\n",
    "\n",
    "        #Stopping Criteria\n",
    "        if losses['val'] < best_val_loss:\n",
    "            best_val_loss = losses['val']\n",
    "            epochs_no_improve = 0\n",
    "        else:\n",
    "            epochs_no_improve += 1\n",
    "        \n",
    "        if epochs_no_improve >= patience:\n",
    "            print(\"Early stopping\")\n",
    "            print(f\"step {iter}: train loss {losses['train']:.4f}, val loss {losses['val']:.4f}\")\n",
    "            break\n",
    "    if iter % checpoint_interval ==0 and iter >0:\n",
    "        # Save the weights checkpoint\n",
    "        torch.save(model.state_dict(), f\"./model_weights{name}/model_weights_{iter+iterationStart}.pth\")\n",
    "\n",
    "    # sample a batch of data\n",
    "    xb, yb = util_tools.get_batch(split ='train')\n",
    "    xb, yb = xb.to(device), yb.to(device)\n",
    "\n",
    "\n",
    "    # evaluate the loss\n",
    "    logits, loss = m(xb, yb)\n",
    "    optimizer.zero_grad(set_to_none=True)\n",
    "    loss.backward()\n",
    "    optimizer.step()\n",
    "    \n",
    "print(\"Train complete\")\n",
    "# Save the weights\n",
    "torch.save(model.state_dict(), f\"./model_weights{name}/model_weights_{iter+iterationStart}.pth\")\n",
    "with open(f\"./losses{name}/trainlosses_{iter+iterationStart}.pkl\", \"wb\") as file:\n",
    "    pickle.dump(trainlosses, file)\n",
    "with open(f\"./losses{name}/vallosses_{iter+iterationStart}.pkl\", \"wb\") as file:\n",
    "    pickle.dump(vallosses, file)"
   ]
  },
  {
   "cell_type": "code",
   "execution_count": null,
   "metadata": {},
   "outputs": [],
   "source": []
  },
  {
   "cell_type": "code",
   "execution_count": 7,
   "metadata": {},
   "outputs": [],
   "source": [
    "def load_pkl_file(file_path):\n",
    "    with open(file_path, 'rb') as file:\n",
    "        return list(pickle.load(file))\n",
    "    \n",
    "trainlossfile = sorted([item for item in os.listdir(f'./losses{name}') if 'train' in item])\n",
    "vallossfile = sorted([item for item in os.listdir(f'./losses{name}') if 'val' in item])\n",
    "traininglosses = []\n",
    "vallosses = []\n",
    "for i in range(0, len(trainlossfile)):\n",
    "    traininglosses.extend(load_pkl_file(f'./losses{name}/{trainlossfile[i]}'))\n",
    "    vallosses.extend(load_pkl_file(f'./losses{name}/{vallossfile[i]}'))"
   ]
  },
  {
   "cell_type": "code",
   "execution_count": 8,
   "metadata": {},
   "outputs": [
    {
     "data": {
      "image/png": "[encoded data removed]",
      "text/plain": [
       "<Figure size 1000x600 with 1 Axes>"
      ]
     },
     "metadata": {},
     "output_type": "display_data"
    }
   ],
   "source": [
    "import matplotlib.pyplot as plt\n",
    "# Create the plot\n",
    "x_values = list(range(0,len(traininglosses)*100,100))\n",
    "plt.figure(figsize=(10, 6))\n",
    "\n",
    "# Plot the training losses\n",
    "plt.plot(x_values, traininglosses, label='Train Losses', color='blue')\n",
    "# Plot the validation losses\n",
    "plt.plot(x_values, vallosses, label='Val Losses', color='red')\n",
    "# Add labels and title\n",
    "plt.xlabel('Iterations')\n",
    "plt.ylabel('Loss')\n",
    "plt.title('Training and Validation Losses')\n",
    "# Add a legend\n",
    "plt.legend()\n",
    "# Show the plot\n",
    "plt.show()"
   ]
  }
 ],
 "metadata": {
  "kernelspec": {
   "display_name": "base",
   "language": "python",
   "name": "python3"
  },
  "language_info": {
   "codemirror_mode": {
    "name": "ipython",
    "version": 3
   },
   "file_extension": ".py",
   "mimetype": "text/x-python",
   "name": "python",
   "nbconvert_exporter": "python",
   "pygments_lexer": "ipython3",
   "version": "3.9.12"
  }
 },
 "nbformat": 4,
 "nbformat_minor": 2
}
