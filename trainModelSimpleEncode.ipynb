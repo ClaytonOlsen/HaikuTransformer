{
 "cells": [
  {
   "cell_type": "markdown",
   "metadata": {},
   "source": [
    "### Haiku datasets\n",
    "\n",
    "https://www.kaggle.com/datasets/bfbarry/haiku-dataset\n",
    "\n",
    "Using HuggingFace Dataset to load"
   ]
  },
  {
   "cell_type": "code",
   "execution_count": 1,
   "metadata": {},
   "outputs": [],
   "source": [
    "# Libraries \n",
    "import torch\n",
    "from datasets import load_dataset\n",
    "import os\n",
    "import pickle\n",
    "import random\n",
    "random.seed(1330) \n",
    "\n",
    "#Note: I lowered the learning rate to 3e-5 after 20000 itterations"
   ]
  },
  {
   "cell_type": "code",
   "execution_count": 2,
   "metadata": {},
   "outputs": [],
   "source": [
    "ds = load_dataset(\"statworx/haiku\")\n",
    "haikutext = '\\n'.join(ds['train']['text'])"
   ]
  },
  {
   "cell_type": "code",
   "execution_count": 7,
   "metadata": {},
   "outputs": [
    {
     "data": {
      "text/plain": [
       "86"
      ]
     },
     "execution_count": 7,
     "metadata": {},
     "output_type": "execute_result"
    }
   ],
   "source": [
    "vocab_size"
   ]
  },
  {
   "cell_type": "code",
   "execution_count": 3,
   "metadata": {},
   "outputs": [],
   "source": [
    "# here are all the unique characters that occur in this text\n",
    "chars = sorted(list(set(haikutext)))\n",
    "vocab_size = len(chars)\n",
    "# create a mapping from characters to integers\n",
    "stoi = { ch:i for i,ch in enumerate(chars) }\n",
    "itos = { i:ch for i,ch in enumerate(chars) }\n",
    "encode = lambda s: [stoi[c] for c in s] # encoder: take a string, output a list of integers\n",
    "decode = lambda l: ''.join([itos[i] for i in l]) # decoder: take a list of integers, output a string"
   ]
  },
  {
   "cell_type": "code",
   "execution_count": 47,
   "metadata": {},
   "outputs": [],
   "source": [
    "data = torch.tensor(encode(haikutext), dtype=torch.long)\n",
    "\n",
    "#train test split\n",
    "n = int(0.9*len(data)) # first 90% will be train, rest val\n",
    "train_data = data[:n]\n",
    "val_data = data[n:]"
   ]
  },
  {
   "cell_type": "markdown",
   "metadata": {},
   "source": [
    "# Model Train"
   ]
  },
  {
   "cell_type": "code",
   "execution_count": 5,
   "metadata": {},
   "outputs": [],
   "source": [
    "# hyperparameters\n",
    "\n",
    "device = torch.device(\"mps\" if torch.backends.mps.is_available() else \"cpu\") #m1 gpu\n",
    "batch_size = 64 # how many independent sequences will we process in parallel\n",
    "block_size = 256 # what is the maximum context length for predictions\n",
    "max_iters = 10000 # epochs/learning iterations\n",
    "eval_interval = 100 # for printing loss updates\n",
    "checpoint_interval = 1000 #save checkpoint\n",
    "learning_rate = 3e-4 # Slower learning rate for wide model\n",
    "eval_iters = 200\n",
    "n_embd = 384\n",
    "n_head = 6\n",
    "n_layer = 6\n",
    "n_block_layers = 6\n",
    "dropout = 0.2"
   ]
  },
  {
   "cell_type": "code",
   "execution_count": 6,
   "metadata": {},
   "outputs": [
    {
     "ename": "NameError",
     "evalue": "name 'train_data' is not defined",
     "output_type": "error",
     "traceback": [
      "\u001b[0;31m---------------------------------------------------------------------------\u001b[0m",
      "\u001b[0;31mNameError\u001b[0m                                 Traceback (most recent call last)",
      "Cell \u001b[0;32mIn[6], line 15\u001b[0m\n\u001b[1;32m     11\u001b[0m best_val_loss \u001b[38;5;241m=\u001b[39m \u001b[38;5;28mfloat\u001b[39m(\u001b[38;5;124m'\u001b[39m\u001b[38;5;124minf\u001b[39m\u001b[38;5;124m'\u001b[39m)\n\u001b[1;32m     12\u001b[0m epochs_no_improve \u001b[38;5;241m=\u001b[39m \u001b[38;5;241m0\u001b[39m\n\u001b[0;32m---> 15\u001b[0m util_tools \u001b[38;5;241m=\u001b[39m ut(\u001b[43mtrain_data\u001b[49m, val_data, block_size, batch_size, device)\n\u001b[1;32m     16\u001b[0m model \u001b[38;5;241m=\u001b[39m BigramLanguageModel(block_size, vocab_size, n_embd, n_head, dropout, device)\n\u001b[1;32m     18\u001b[0m \u001b[38;5;28;01mif\u001b[39;00m os\u001b[38;5;241m.\u001b[39mpath\u001b[38;5;241m.\u001b[39mexists(\u001b[38;5;124mf\u001b[39m\u001b[38;5;124m'\u001b[39m\u001b[38;5;124m.lossesSimpleEncode/trainlosses_\u001b[39m\u001b[38;5;132;01m{\u001b[39;00miterationStart\u001b[38;5;132;01m}\u001b[39;00m\u001b[38;5;124m.pkl\u001b[39m\u001b[38;5;124m'\u001b[39m):\n",
      "\u001b[0;31mNameError\u001b[0m: name 'train_data' is not defined"
     ]
    }
   ],
   "source": [
    "from BigramLanguageModelTrain import utilTools as ut\n",
    "from BigramLanguageModelTrain import BigramLanguageModel\n",
    "\n",
    "\n",
    "#Relearning Epoch starting point\n",
    "iterationStart = 20000\n",
    "\n",
    "\n",
    "#Stopping criteria parameters\n",
    "patience = 8\n",
    "best_val_loss = float('inf')\n",
    "epochs_no_improve = 0\n",
    "\n",
    "\n",
    "util_tools = ut(train_data, val_data, block_size, batch_size, device)\n",
    "model = BigramLanguageModel(block_size, vocab_size, n_embd, n_head, dropout, device)\n",
    "\n",
    "if os.path.exists(f'.lossesSimpleEncode/trainlosses_{iterationStart}.pkl'):\n",
    "    with open(f'.lossesSimpleEncode/trainlosses_{iterationStart}.pkl', \"rb\") as file:\n",
    "        trainlosses = pickle.load(file)\n",
    "else:\n",
    "    trainlosses = []\n",
    "\n",
    "if os.path.exists(f'.lossesSimpleEncode/vallosses_{iterationStart}.pkl'):\n",
    "    with open(f'.lossesSimpleEncode/vallosses_{iterationStart}.pkl', \"rb\") as file:\n",
    "        vallosses = pickle.load(file)\n",
    "else:\n",
    "    vallosses = []\n",
    "\n",
    "\n",
    "if os.path.exists(f'./model_weightsSimpleEncode/model_weights_{iterationStart}.pth'):\n",
    "    print(\"Loading from previous checkpoint\", f\"'./model_weightsSimpleEncode/model_weights_{iterationStart}.pth'\")\n",
    "    # Load previous weights\n",
    "    model.load_state_dict(torch.load(f'./model_weightsSimpleEncode/model_weights_{iterationStart}.pth', weights_only=True))\n",
    "\n",
    "m = model.to(device)\n",
    "# print the number of parameters in the model\n",
    "print(sum(p.numel() for p in m.parameters())/1e6, 'M parameters')\n",
    "\n",
    "# create a PyTorch optimizer\n",
    "optimizer = torch.optim.AdamW(m.parameters(), lr=learning_rate)\n",
    "\n",
    "for iter in range(max_iters):\n",
    "\n",
    "    # every once in a while evaluate the loss on train and val sets\n",
    "    if iter % eval_interval == 0 or iter == max_iters - 1:\n",
    "        losses = util_tools.estimate_loss(model, eval_iters)\n",
    "        print(f\"step {iter}: train loss {losses['train']:.4f}, val loss {losses['val']:.4f}\")\n",
    "        trainlosses.append(losses['train'])\n",
    "        vallosses.append(losses['val'])\n",
    "\n",
    "        #Stopping Criteria\n",
    "        if losses['val'] < best_val_loss:\n",
    "            best_val_loss = losses['val']\n",
    "            epochs_no_improve = 0\n",
    "        else:\n",
    "            epochs_no_improve += 1\n",
    "        \n",
    "        if epochs_no_improve >= patience:\n",
    "            print(\"Early stopping\")\n",
    "            print(f\"step {iter}: train loss {losses['train']:.4f}, val loss {losses['val']:.4f}\")\n",
    "            break\n",
    "    if iter % checpoint_interval ==0 and iter >0:\n",
    "        # Save the weights checkpoint\n",
    "        torch.save(model.state_dict(), f\"./model_weightsSimpleEncode/model_weights_{iter+iterationStart}.pth\")\n",
    "\n",
    "    # sample a batch of data\n",
    "    xb, yb = util_tools.get_batch(split ='train')\n",
    "    xb, yb = xb.to(device), yb.to(device)\n",
    "\n",
    "\n",
    "    # evaluate the loss\n",
    "    logits, loss = m(xb, yb)\n",
    "    optimizer.zero_grad(set_to_none=True)\n",
    "    loss.backward()\n",
    "    optimizer.step()\n",
    "    \n",
    "print(\"Train complete\")\n",
    "# Save the weights\n",
    "torch.save(model.state_dict(), f\"./model_weightsSimpleEncode/model_weights_{max_iters+iterationStart}.pth\")\n",
    "with open(f\"./lossesSimpleEncode/trainlosses_{iter+iterationStart}.pkl\", \"wb\") as file:\n",
    "    pickle.dump(trainlosses, file)\n",
    "with open(f\"./lossesSimpleEncode/vallosses_{iter+iterationStart}.pkl\", \"wb\") as file:\n",
    "    pickle.dump(vallosses, file)"
   ]
  },
  {
   "cell_type": "markdown",
   "metadata": {},
   "source": [
    "# Losses"
   ]
  },
  {
   "cell_type": "code",
   "execution_count": 98,
   "metadata": {},
   "outputs": [],
   "source": [
    "def load_pkl_file(file_path):\n",
    "    with open(file_path, 'rb') as file:\n",
    "        return list(pickle.load(file))\n",
    "    \n",
    "trainlossfile = sorted([item for item in os.listdir('./lossesSimpleEncode') if 'train' in item])\n",
    "vallossfile = sorted([item for item in os.listdir('./lossesSimpleEncode') if 'val' in item])\n",
    "traininglosses = []\n",
    "vallosses = []\n",
    "for i in range(0, len(trainlossfile)):\n",
    "    traininglosses.extend(load_pkl_file(f'./lossesSimpleEncode/{trainlossfile[i]}'))\n",
    "    vallosses.extend(load_pkl_file(f'./lossesSimpleEncode/{vallossfile[i]}'))"
   ]
  },
  {
   "cell_type": "code",
   "execution_count": 101,
   "metadata": {},
   "outputs": [
    {
     "data": {
      "image/png": "[encoded data removed]",
      "text/plain": [
       "<Figure size 1000x600 with 1 Axes>"
      ]
     },
     "metadata": {},
     "output_type": "display_data"
    }
   ],
   "source": [
    "import matplotlib.pyplot as plt\n",
    "# Create the plot\n",
    "x_values = list(range(0,len(traininglosses)*100,100))\n",
    "plt.figure(figsize=(10, 6))\n",
    "\n",
    "# Plot the training losses\n",
    "plt.plot(x_values, traininglosses, label='Train Losses', color='blue')\n",
    "# Plot the validation losses\n",
    "plt.plot(x_values, vallosses, label='Val Losses', color='red')\n",
    "# Add labels and title\n",
    "plt.xlabel('Iterations')\n",
    "plt.ylabel('Loss')\n",
    "plt.title('Training and Validation Losses')\n",
    "# Add a legend\n",
    "plt.legend()\n",
    "# Show the plot\n",
    "plt.show()"
   ]
  },
  {
   "cell_type": "code",
   "execution_count": 71,
   "metadata": {},
   "outputs": [
    {
     "name": "stdout",
     "output_type": "stream",
     "text": [
      "\n",
      "Free within Adam. / The screen elightens.\n",
      "Thunder shadows. / Fills the witcomer words. / Shreet in cicadas.\n",
      "Graffiti. / A dream. / By the apper curve.\n",
      "This year. / Coque dog. / To fill the line.\n",
      "Marigold apples. / The doves of the school. / From breakfast train.\n",
      "Her edges. / [Talling sigh. / Fuck over belly]\n",
      "From the milk. / The trees willow. / To soaked.\n",
      "Between sunflaness days. / Face to his feet. / Like the taking stillness.\n",
      "That dream distance. / Tears your face flows to you cry ephen. / I shopa before that.\n",
      "Do you huckly through? / A simple letter down low. / Elects this week.\n",
      "Voters of life shit. / We can raising rhymore? / Of her thin bitch will.\n",
      "A sun roads on my sugar. / Wintly the last night rain. / Coyotes into each hope.\n",
      "Name was just dancing. / My jar bicy lifts seventh wings. / Border now flooding.\n",
      "Winter sleeping in. / How did I feel you know? / I can miss Ian.\n",
      "Except sarcasses. / The normal harvest around. / Suckle date everywhen.\n",
      "The writer clouds leave. / Parchated soul of ankle. / Conversations.\n",
      "Bones conscake nacks. / We had a beautiful eye. / Out, but thoughts, he matters.\n",
      "Frive teah, gathered. / As the follower. / Sharing, a locker lee.\n",
      "What in. / Heath introgment fever. / In black peaceful.\n",
      "Funculal Alerda. / Covered ink, harmer. / Cootting its float.\n",
      "Bright heat cover. / Robin flies position in. / A hand to go outs on.\n",
      "I come dying. / Upacked in pubblic, jut. / Wandered the weather.\n",
      "Enjoy all day of work. / See and extra room traves in. / Dance vite, forts man.\n",
      "Peeping in the night? / Through needs between down twips cine. / Wild, swim quiet.\n",
      "An headstone in mine. / Summer song for the sound love with. / I'm petaling my.\n",
      "August been knows so. / Getting extremely way. / Hills let's vege in bed.\n",
      "I want this denim's. / Charmas broken class out heav. / 'String terrape is new.\n",
      "Black ice cute the. / Last Saying Lash bails, ice. / Yet sofaso at work.\n",
      "I watch I love to. / Someone trash to , just too. / Will replying now?\n",
      "My life makes let me. / Pictu\n"
     ]
    }
   ],
   "source": [
    "context = torch.zeros((1, 1), dtype=torch.long, device=device)\n",
    "print(decode(model.generate(context, max_new_tokens=2000)[0].tolist()))"
   ]
  },
  {
   "cell_type": "code",
   "execution_count": 76,
   "metadata": {},
   "outputs": [
    {
     "name": "stderr",
     "output_type": "stream",
     "text": [
      "[nltk_data] Downloading package words to\n",
      "[nltk_data]     /Users/clayolsen1/nltk_data...\n",
      "[nltk_data]   Package words is already up-to-date!\n"
     ]
    },
    {
     "name": "stdout",
     "output_type": "stream",
     "text": [
      "Percentage of real words: 85.39%\n"
     ]
    }
   ],
   "source": [
    "import nltk\n",
    "from nltk.corpus import words\n",
    "import re\n",
    "\n",
    "# Download the words corpus (if you haven't already)\n",
    "nltk.download('words')\n",
    "\n",
    "# Get the list of valid English words from nltk corpus\n",
    "valid_words = set(words.words())\n",
    "\n",
    "def percentage_real_words(input_string):\n",
    "    # Remove non-alphabetic characters and split the string into words\n",
    "    word_list = re.findall(r'\\b[a-zA-Z]+\\b', input_string)\n",
    "    \n",
    "    # Count the real words\n",
    "    real_word_count = sum(1 for word in word_list if word.lower() in valid_words)\n",
    "    \n",
    "    # Calculate the percentage of real words\n",
    "    if len(word_list) == 0:\n",
    "        return 0  # To avoid division by zero\n",
    "    return (real_word_count / len(word_list)) * 100\n",
    "\n",
    "# Example usage\n",
    "input_string = decode(model.generate(context, max_new_tokens=10000)[0].tolist())\n",
    "real_word_percentage = percentage_real_words(input_string)\n",
    "print(f\"Percentage of real words: {real_word_percentage:.2f}%\")"
   ]
  }
 ],
 "metadata": {
  "kernelspec": {
   "display_name": "base",
   "language": "python",
   "name": "python3"
  },
  "language_info": {
   "codemirror_mode": {
    "name": "ipython",
    "version": 3
   },
   "file_extension": ".py",
   "mimetype": "text/x-python",
   "name": "python",
   "nbconvert_exporter": "python",
   "pygments_lexer": "ipython3",
   "version": "3.9.12"
  }
 },
 "nbformat": 4,
 "nbformat_minor": 2
}
